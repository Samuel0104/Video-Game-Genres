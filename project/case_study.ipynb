{
  "nbformat": 4,
  "nbformat_minor": 0,
  "metadata": {
    "colab": {
      "name": "Proyecto_aplicado.ipynb",
      "provenance": [],
      "collapsed_sections": []
    },
    "kernelspec": {
      "name": "python3",
      "display_name": "Python 3"
    },
    "language_info": {
      "name": "python"
    }
  },
  "cells": [
    {
      "cell_type": "markdown",
      "source": [
        "# **Modelo de clasificación de videojuegos**"
      ],
      "metadata": {
        "id": "w7r1oYKmnVjW"
      }
    },
    {
      "cell_type": "markdown",
      "source": [
        "# **Entendimiento del negocio**\n",
        "---"
      ],
      "metadata": {
        "id": "I8xiQ-UVgEMM"
      }
    },
    {
      "cell_type": "markdown",
      "source": [
        "## **1. Contexto del negocio**\n",
        "---\n",
        "En este proyecto se usará un conjunto de datos con **`videojuegos`** que han vendido más de cien mil copias a nivel mundial. Se buscará hacer un análisis con base en atributos como el año de publicación, número de ventas, plataformas, entre otros."
      ],
      "metadata": {
        "id": "kUWsQ7dmg5eS"
      }
    },
    {
      "cell_type": "markdown",
      "source": [
        "## **2. Objetivos del proyecto**\n",
        "---\n",
        "- Interpretar los datos de ventas de múltiples tipos de videojuegos.\n",
        "- Clasificar los juegos según su género.\n",
        "- Evaluar el desempeño de distintos modelos de clasificación."
      ],
      "metadata": {
        "id": "3gQ-V3zavnnA"
      }
    },
    {
      "cell_type": "markdown",
      "source": [
        "## **3. Planeación del proyecto**\n",
        "---\n",
        "1. Explorar el conjunto de datos por medio de descripciones generales.\n",
        "2. Seleccionar las características pertinentes para llevar a cabo el análisis.\n",
        "3. Preparar los datos de interés para mejorar la calidad del análisis y facilitar el procesamiento.\n",
        "4. Contruir y entrenar modelos para clasificar los datos.\n",
        "5. Evaluar el desempeño de los modelos con distintos hiperparámetros.\n",
        "5. Interpretar los resultados y formular conclusiones con base en los objetivos planteados."
      ],
      "metadata": {
        "id": "1BZmzM79hFmZ"
      }
    },
    {
      "cell_type": "markdown",
      "source": [
        "# **Entendimiento de los datos**\n",
        "---"
      ],
      "metadata": {
        "id": "876486dohVO9"
      }
    },
    {
      "cell_type": "markdown",
      "source": [
        "## **1. Adquisición de datos**\n",
        "---"
      ],
      "metadata": {
        "id": "h188Bl3rhoiy"
      }
    },
    {
      "cell_type": "code",
      "source": [
        "!pip install -U scikit-learn "
      ],
      "metadata": {
        "colab": {
          "base_uri": "https://localhost:8080/"
        },
        "id": "5noNHU06EvKa",
        "outputId": "0aa50460-2d8e-4571-f172-e35161c2192f"
      },
      "execution_count": 129,
      "outputs": [
        {
          "output_type": "stream",
          "name": "stdout",
          "text": [
            "Requirement already satisfied: scikit-learn in /usr/local/lib/python3.7/dist-packages (1.0.2)\n",
            "Requirement already satisfied: scipy>=1.1.0 in /usr/local/lib/python3.7/dist-packages (from scikit-learn) (1.4.1)\n",
            "Requirement already satisfied: threadpoolctl>=2.0.0 in /usr/local/lib/python3.7/dist-packages (from scikit-learn) (3.1.0)\n",
            "Requirement already satisfied: joblib>=0.11 in /usr/local/lib/python3.7/dist-packages (from scikit-learn) (1.1.0)\n",
            "Requirement already satisfied: numpy>=1.14.6 in /usr/local/lib/python3.7/dist-packages (from scikit-learn) (1.21.6)\n"
          ]
        }
      ]
    },
    {
      "cell_type": "code",
      "source": [
        "import numpy as np\n",
        "import pandas as pd\n",
        "\n",
        "import matplotlib as mpl\n",
        "import matplotlib.pyplot as plt\n",
        "import seaborn as sns\n",
        "\n",
        "import sklearn\n",
        "from sklearn.model_selection import train_test_split, GridSearchCV\n",
        "from sklearn.preprocessing import OneHotEncoder, StandardScaler\n",
        "from sklearn.ensemble import RandomForestClassifier\n",
        "from sklearn.svm import SVC\n",
        "from sklearn.decomposition import PCA\n",
        "\n",
        "# Configuraciones de Matplotlib\n",
        "%matplotlib inline   \n",
        "plt.rcParams['figure.dpi'] = 110\n",
        "\n",
        "# Configuraciones de Seaborn\n",
        "sns.set_theme('notebook')"
      ],
      "metadata": {
        "id": "K2VL144TjwCC"
      },
      "execution_count": 130,
      "outputs": []
    },
    {
      "cell_type": "markdown",
      "source": [
        "Este material se realizó con las siguientes versiones:\n",
        "- **`Python`**: 3.7.13\n",
        "- **`Numpy`**: 1.21.6\n",
        "- **`Pandas`**: 1.3.5\n",
        "- **`Matplotlib`**: 3.2.2\n",
        "- **`Seaborn`**: 0.11.2\n",
        "- **`Scikit-learn`**: 1.0.2"
      ],
      "metadata": {
        "id": "ZaLUOjFbTcye"
      }
    },
    {
      "cell_type": "code",
      "source": [
        "!python --version\n",
        "print('Numpy', np.__version__)\n",
        "print('Pandas', pd.__version__)\n",
        "print('Matplotlib', mpl.__version__)\n",
        "print('Seaborn', sns.__version__)\n",
        "print('Scikit-learn', sklearn.__version__)"
      ],
      "metadata": {
        "colab": {
          "base_uri": "https://localhost:8080/"
        },
        "id": "8psXwogATnpY",
        "outputId": "942b63ff-ef62-4508-ec2f-d8ea7c00c741"
      },
      "execution_count": 131,
      "outputs": [
        {
          "output_type": "stream",
          "name": "stdout",
          "text": [
            "Python 3.7.13\n",
            "Numpy 1.21.6\n",
            "Pandas 1.3.5\n",
            "Matplotlib 3.2.2\n",
            "Seaborn 0.11.2\n",
            "Scikit-learn 1.0.2\n"
          ]
        }
      ]
    },
    {
      "cell_type": "markdown",
      "source": [
        "Para este proyecto se utilizará el conjunto de datos [Video Game Sales](https://www.kaggle.com/datasets/gregorut/videogamesales) disponible en *Kaggle*."
      ],
      "metadata": {
        "id": "xVCbQ04e4RDY"
      }
    },
    {
      "cell_type": "code",
      "source": [
        "games = pd.read_csv(\"data.csv\")"
      ],
      "metadata": {
        "id": "n25LGS_Rj2q6"
      },
      "execution_count": 132,
      "outputs": []
    },
    {
      "cell_type": "markdown",
      "source": [
        "## **2. Funciones de utilidad**\n",
        "---"
      ],
      "metadata": {
        "id": "mtoNzk_xraMc"
      }
    },
    {
      "cell_type": "code",
      "source": [
        "def plot_data(X, y):\n",
        "    y_unique = np.unique(y)\n",
        "    colors = plt.cm.rainbow(np.linspace(0.0, 1.0, y_unique.size))\n",
        "    for this_y, color in zip(y_unique, colors):\n",
        "        this_X = X[y == this_y]\n",
        "        plt.scatter(this_X[:, 0], this_X[:, 1],  color=color,\n",
        "                    alpha=0.5, edgecolor='k',\n",
        "                    label=\"Class %s\" % this_y)\n",
        "    plt.legend(loc=\"best\")"
      ],
      "metadata": {
        "id": "WAz7zAkHpttf"
      },
      "execution_count": 133,
      "outputs": []
    },
    {
      "cell_type": "code",
      "source": [
        "def cumulative_explained_variance_plot(expl_variance):\n",
        "\n",
        "  cum_var_exp = np.cumsum(expl_variance)\n",
        "\n",
        "  plt.figure(dpi = 105, figsize = (10, 6))\n",
        "  plt.title('Curva acumulativa de la varianza explicada VS número de componentes principales')\n",
        "  plt.xlabel('Número de componentes principales')\n",
        "  plt.ylabel('Varianza explicada acumulativa')  \n",
        "\n",
        "  nc = np.arange(1, expl_variance.shape[0] + 1)\n",
        "\n",
        "  plt.plot(nc, cum_var_exp, '--r')\n",
        "  plt.plot(nc, cum_var_exp, 'c*', ms = 5)   \n",
        "  plt.show()"
      ],
      "metadata": {
        "id": "WeDT6-sMmati"
      },
      "execution_count": 134,
      "outputs": []
    },
    {
      "cell_type": "markdown",
      "source": [
        "## **3. Análisis exploratorio de datos**\n",
        "---"
      ],
      "metadata": {
        "id": "XRmbZQcth2F8"
      }
    },
    {
      "cell_type": "markdown",
      "source": [
        "### **2.1. Descripciones y selección de características**\n",
        "---"
      ],
      "metadata": {
        "id": "aa8FCcxoiDNU"
      }
    },
    {
      "cell_type": "markdown",
      "source": [
        "Se seleccionan algunos datos de la tabla para adquirir un **`entendimiento general`** de la composición de las filas."
      ],
      "metadata": {
        "id": "rkvkqWIN51O_"
      }
    },
    {
      "cell_type": "code",
      "source": [
        "games.head()"
      ],
      "metadata": {
        "colab": {
          "base_uri": "https://localhost:8080/",
          "height": 206
        },
        "id": "YosIcsrEkgR7",
        "outputId": "5f38bebc-01a2-4439-bda0-9b6d475efb60"
      },
      "execution_count": 135,
      "outputs": [
        {
          "output_type": "execute_result",
          "data": {
            "text/plain": [
              "   Rank                      Name Platform    Year         Genre Publisher  \\\n",
              "0     1                Wii Sports      Wii  2006.0        Sports  Nintendo   \n",
              "1     2         Super Mario Bros.      NES  1985.0      Platform  Nintendo   \n",
              "2     3            Mario Kart Wii      Wii  2008.0        Racing  Nintendo   \n",
              "3     4         Wii Sports Resort      Wii  2009.0        Sports  Nintendo   \n",
              "4     5  Pokemon Red/Pokemon Blue       GB  1996.0  Role-Playing  Nintendo   \n",
              "\n",
              "   NA_Sales  EU_Sales  JP_Sales  Other_Sales  Global_Sales  \n",
              "0     41.49     29.02      3.77         8.46         82.74  \n",
              "1     29.08      3.58      6.81         0.77         40.24  \n",
              "2     15.85     12.88      3.79         3.31         35.82  \n",
              "3     15.75     11.01      3.28         2.96         33.00  \n",
              "4     11.27      8.89     10.22         1.00         31.37  "
            ],
            "text/html": [
              "\n",
              "  <div id=\"df-d415dcbb-8482-405c-a494-9b7ebc90673e\">\n",
              "    <div class=\"colab-df-container\">\n",
              "      <div>\n",
              "<style scoped>\n",
              "    .dataframe tbody tr th:only-of-type {\n",
              "        vertical-align: middle;\n",
              "    }\n",
              "\n",
              "    .dataframe tbody tr th {\n",
              "        vertical-align: top;\n",
              "    }\n",
              "\n",
              "    .dataframe thead th {\n",
              "        text-align: right;\n",
              "    }\n",
              "</style>\n",
              "<table border=\"1\" class=\"dataframe\">\n",
              "  <thead>\n",
              "    <tr style=\"text-align: right;\">\n",
              "      <th></th>\n",
              "      <th>Rank</th>\n",
              "      <th>Name</th>\n",
              "      <th>Platform</th>\n",
              "      <th>Year</th>\n",
              "      <th>Genre</th>\n",
              "      <th>Publisher</th>\n",
              "      <th>NA_Sales</th>\n",
              "      <th>EU_Sales</th>\n",
              "      <th>JP_Sales</th>\n",
              "      <th>Other_Sales</th>\n",
              "      <th>Global_Sales</th>\n",
              "    </tr>\n",
              "  </thead>\n",
              "  <tbody>\n",
              "    <tr>\n",
              "      <th>0</th>\n",
              "      <td>1</td>\n",
              "      <td>Wii Sports</td>\n",
              "      <td>Wii</td>\n",
              "      <td>2006.0</td>\n",
              "      <td>Sports</td>\n",
              "      <td>Nintendo</td>\n",
              "      <td>41.49</td>\n",
              "      <td>29.02</td>\n",
              "      <td>3.77</td>\n",
              "      <td>8.46</td>\n",
              "      <td>82.74</td>\n",
              "    </tr>\n",
              "    <tr>\n",
              "      <th>1</th>\n",
              "      <td>2</td>\n",
              "      <td>Super Mario Bros.</td>\n",
              "      <td>NES</td>\n",
              "      <td>1985.0</td>\n",
              "      <td>Platform</td>\n",
              "      <td>Nintendo</td>\n",
              "      <td>29.08</td>\n",
              "      <td>3.58</td>\n",
              "      <td>6.81</td>\n",
              "      <td>0.77</td>\n",
              "      <td>40.24</td>\n",
              "    </tr>\n",
              "    <tr>\n",
              "      <th>2</th>\n",
              "      <td>3</td>\n",
              "      <td>Mario Kart Wii</td>\n",
              "      <td>Wii</td>\n",
              "      <td>2008.0</td>\n",
              "      <td>Racing</td>\n",
              "      <td>Nintendo</td>\n",
              "      <td>15.85</td>\n",
              "      <td>12.88</td>\n",
              "      <td>3.79</td>\n",
              "      <td>3.31</td>\n",
              "      <td>35.82</td>\n",
              "    </tr>\n",
              "    <tr>\n",
              "      <th>3</th>\n",
              "      <td>4</td>\n",
              "      <td>Wii Sports Resort</td>\n",
              "      <td>Wii</td>\n",
              "      <td>2009.0</td>\n",
              "      <td>Sports</td>\n",
              "      <td>Nintendo</td>\n",
              "      <td>15.75</td>\n",
              "      <td>11.01</td>\n",
              "      <td>3.28</td>\n",
              "      <td>2.96</td>\n",
              "      <td>33.00</td>\n",
              "    </tr>\n",
              "    <tr>\n",
              "      <th>4</th>\n",
              "      <td>5</td>\n",
              "      <td>Pokemon Red/Pokemon Blue</td>\n",
              "      <td>GB</td>\n",
              "      <td>1996.0</td>\n",
              "      <td>Role-Playing</td>\n",
              "      <td>Nintendo</td>\n",
              "      <td>11.27</td>\n",
              "      <td>8.89</td>\n",
              "      <td>10.22</td>\n",
              "      <td>1.00</td>\n",
              "      <td>31.37</td>\n",
              "    </tr>\n",
              "  </tbody>\n",
              "</table>\n",
              "</div>\n",
              "      <button class=\"colab-df-convert\" onclick=\"convertToInteractive('df-d415dcbb-8482-405c-a494-9b7ebc90673e')\"\n",
              "              title=\"Convert this dataframe to an interactive table.\"\n",
              "              style=\"display:none;\">\n",
              "        \n",
              "  <svg xmlns=\"http://www.w3.org/2000/svg\" height=\"24px\"viewBox=\"0 0 24 24\"\n",
              "       width=\"24px\">\n",
              "    <path d=\"M0 0h24v24H0V0z\" fill=\"none\"/>\n",
              "    <path d=\"M18.56 5.44l.94 2.06.94-2.06 2.06-.94-2.06-.94-.94-2.06-.94 2.06-2.06.94zm-11 1L8.5 8.5l.94-2.06 2.06-.94-2.06-.94L8.5 2.5l-.94 2.06-2.06.94zm10 10l.94 2.06.94-2.06 2.06-.94-2.06-.94-.94-2.06-.94 2.06-2.06.94z\"/><path d=\"M17.41 7.96l-1.37-1.37c-.4-.4-.92-.59-1.43-.59-.52 0-1.04.2-1.43.59L10.3 9.45l-7.72 7.72c-.78.78-.78 2.05 0 2.83L4 21.41c.39.39.9.59 1.41.59.51 0 1.02-.2 1.41-.59l7.78-7.78 2.81-2.81c.8-.78.8-2.07 0-2.86zM5.41 20L4 18.59l7.72-7.72 1.47 1.35L5.41 20z\"/>\n",
              "  </svg>\n",
              "      </button>\n",
              "      \n",
              "  <style>\n",
              "    .colab-df-container {\n",
              "      display:flex;\n",
              "      flex-wrap:wrap;\n",
              "      gap: 12px;\n",
              "    }\n",
              "\n",
              "    .colab-df-convert {\n",
              "      background-color: #E8F0FE;\n",
              "      border: none;\n",
              "      border-radius: 50%;\n",
              "      cursor: pointer;\n",
              "      display: none;\n",
              "      fill: #1967D2;\n",
              "      height: 32px;\n",
              "      padding: 0 0 0 0;\n",
              "      width: 32px;\n",
              "    }\n",
              "\n",
              "    .colab-df-convert:hover {\n",
              "      background-color: #E2EBFA;\n",
              "      box-shadow: 0px 1px 2px rgba(60, 64, 67, 0.3), 0px 1px 3px 1px rgba(60, 64, 67, 0.15);\n",
              "      fill: #174EA6;\n",
              "    }\n",
              "\n",
              "    [theme=dark] .colab-df-convert {\n",
              "      background-color: #3B4455;\n",
              "      fill: #D2E3FC;\n",
              "    }\n",
              "\n",
              "    [theme=dark] .colab-df-convert:hover {\n",
              "      background-color: #434B5C;\n",
              "      box-shadow: 0px 1px 3px 1px rgba(0, 0, 0, 0.15);\n",
              "      filter: drop-shadow(0px 1px 2px rgba(0, 0, 0, 0.3));\n",
              "      fill: #FFFFFF;\n",
              "    }\n",
              "  </style>\n",
              "\n",
              "      <script>\n",
              "        const buttonEl =\n",
              "          document.querySelector('#df-d415dcbb-8482-405c-a494-9b7ebc90673e button.colab-df-convert');\n",
              "        buttonEl.style.display =\n",
              "          google.colab.kernel.accessAllowed ? 'block' : 'none';\n",
              "\n",
              "        async function convertToInteractive(key) {\n",
              "          const element = document.querySelector('#df-d415dcbb-8482-405c-a494-9b7ebc90673e');\n",
              "          const dataTable =\n",
              "            await google.colab.kernel.invokeFunction('convertToInteractive',\n",
              "                                                     [key], {});\n",
              "          if (!dataTable) return;\n",
              "\n",
              "          const docLinkHtml = 'Like what you see? Visit the ' +\n",
              "            '<a target=\"_blank\" href=https://colab.research.google.com/notebooks/data_table.ipynb>data table notebook</a>'\n",
              "            + ' to learn more about interactive tables.';\n",
              "          element.innerHTML = '';\n",
              "          dataTable['output_type'] = 'display_data';\n",
              "          await google.colab.output.renderOutput(dataTable, element);\n",
              "          const docLink = document.createElement('div');\n",
              "          docLink.innerHTML = docLinkHtml;\n",
              "          element.appendChild(docLink);\n",
              "        }\n",
              "      </script>\n",
              "    </div>\n",
              "  </div>\n",
              "  "
            ]
          },
          "metadata": {},
          "execution_count": 135
        }
      ]
    },
    {
      "cell_type": "markdown",
      "source": [
        "Con esta vista premilinar se identifica una columna que no aporta **`información relevante`** para el análisis que se busca realizar. Por esto, se elimina a continuación:"
      ],
      "metadata": {
        "id": "Cv-cX4jh61wX"
      }
    },
    {
      "cell_type": "code",
      "source": [
        "games = games.drop(columns=[\"Rank\"])"
      ],
      "metadata": {
        "id": "KUEYs5Gk6gGB"
      },
      "execution_count": 136,
      "outputs": []
    },
    {
      "cell_type": "markdown",
      "source": [
        "Con esto, se revisa la **`información general`** del conjunto de datos y se puede detallar que la columna de año podría tener un formato más óptimo para el análisis."
      ],
      "metadata": {
        "id": "qXMBzCOt-c01"
      }
    },
    {
      "cell_type": "code",
      "source": [
        "games.info()"
      ],
      "metadata": {
        "colab": {
          "base_uri": "https://localhost:8080/"
        },
        "id": "2SAQPOGrkw3Z",
        "outputId": "cbb26fe7-db7c-4d3b-a96d-2aa2f2add6e0"
      },
      "execution_count": 137,
      "outputs": [
        {
          "output_type": "stream",
          "name": "stdout",
          "text": [
            "<class 'pandas.core.frame.DataFrame'>\n",
            "RangeIndex: 16598 entries, 0 to 16597\n",
            "Data columns (total 10 columns):\n",
            " #   Column        Non-Null Count  Dtype  \n",
            "---  ------        --------------  -----  \n",
            " 0   Name          16598 non-null  object \n",
            " 1   Platform      16598 non-null  object \n",
            " 2   Year          16327 non-null  float64\n",
            " 3   Genre         16598 non-null  object \n",
            " 4   Publisher     16540 non-null  object \n",
            " 5   NA_Sales      16598 non-null  float64\n",
            " 6   EU_Sales      16598 non-null  float64\n",
            " 7   JP_Sales      16598 non-null  float64\n",
            " 8   Other_Sales   16598 non-null  float64\n",
            " 9   Global_Sales  16598 non-null  float64\n",
            "dtypes: float64(6), object(4)\n",
            "memory usage: 1.3+ MB\n"
          ]
        }
      ]
    },
    {
      "cell_type": "markdown",
      "source": [
        "# **Preparación de los datos**\n",
        "---"
      ],
      "metadata": {
        "id": "HiGdLed8ig6s"
      }
    },
    {
      "cell_type": "markdown",
      "source": [
        "## **1. Limpieza de datos**\n",
        "---"
      ],
      "metadata": {
        "id": "R-5vP4SnioJp"
      }
    },
    {
      "cell_type": "markdown",
      "source": [
        "Por medio del método **`info`** se identificó que los parámetros **`Year`** y **`Publisher`** son los únicos que poseen valores nulos o faltantes.\n",
        "\n",
        "Entre estas columnas se tienen 329 **`entradas incompletas`** como máximo (menos del 2% de los datos totales). Así pues, es posible eliminar estas filas sin afectar negativamente el conjunto de datos.\n",
        "\n",
        "\n",
        "\n"
      ],
      "metadata": {
        "id": "DEXoDQpx_7Wl"
      }
    },
    {
      "cell_type": "code",
      "source": [
        "games = games.dropna()"
      ],
      "metadata": {
        "id": "SP1ZYqU5ldO6"
      },
      "execution_count": 138,
      "outputs": []
    },
    {
      "cell_type": "markdown",
      "source": [
        "## **2. Transformación de datos**\n",
        "---"
      ],
      "metadata": {
        "id": "5BTT3xZni6ui"
      }
    },
    {
      "cell_type": "markdown",
      "source": [
        "Se realizan las modificaciones necesarias sobre la columna del año de publicación para que ésta tenga un formato numérico **`entero`**."
      ],
      "metadata": {
        "id": "o7MnG3hQCvK1"
      }
    },
    {
      "cell_type": "code",
      "source": [
        "games.loc[:, \"Year\"] = games[\"Year\"].astype(int)"
      ],
      "metadata": {
        "id": "vwavHrJGlgIJ"
      },
      "execution_count": 139,
      "outputs": []
    },
    {
      "cell_type": "markdown",
      "source": [
        "## **3. Nuevos datos preparados**\n",
        "---"
      ],
      "metadata": {
        "id": "zbR5-l25C-nt"
      }
    },
    {
      "cell_type": "markdown",
      "source": [
        "Se selecciona una **`muestra aleatoria`** de la tabla para verificar el efecto de los cambios realizados."
      ],
      "metadata": {
        "id": "UwTFJGg5Nf3K"
      }
    },
    {
      "cell_type": "code",
      "source": [
        "games.sample(3)"
      ],
      "metadata": {
        "colab": {
          "base_uri": "https://localhost:8080/",
          "height": 143
        },
        "id": "E2Zr9nrmBfJm",
        "outputId": "d5baf6d8-4ce8-43bb-f996-4d4cc2f3b776"
      },
      "execution_count": 140,
      "outputs": [
        {
          "output_type": "execute_result",
          "data": {
            "text/plain": [
              "                                       Name Platform  Year         Genre  \\\n",
              "10774  InuYasha: Secret of the Divine Jewel       DS  2007  Role-Playing   \n",
              "6183                               Monopoly       DS  2010          Misc   \n",
              "11087                      Clockwork Knight      SAT  1994      Platform   \n",
              "\n",
              "                Publisher  NA_Sales  EU_Sales  JP_Sales  Other_Sales  \\\n",
              "10774  Namco Bandai Games      0.09       0.0      0.00         0.01   \n",
              "6183      Electronic Arts      0.16       0.1      0.00         0.03   \n",
              "11087                Sega      0.00       0.0      0.09         0.00   \n",
              "\n",
              "       Global_Sales  \n",
              "10774          0.10  \n",
              "6183           0.28  \n",
              "11087          0.09  "
            ],
            "text/html": [
              "\n",
              "  <div id=\"df-8f2f91bb-f180-4403-b117-6aa72228c00f\">\n",
              "    <div class=\"colab-df-container\">\n",
              "      <div>\n",
              "<style scoped>\n",
              "    .dataframe tbody tr th:only-of-type {\n",
              "        vertical-align: middle;\n",
              "    }\n",
              "\n",
              "    .dataframe tbody tr th {\n",
              "        vertical-align: top;\n",
              "    }\n",
              "\n",
              "    .dataframe thead th {\n",
              "        text-align: right;\n",
              "    }\n",
              "</style>\n",
              "<table border=\"1\" class=\"dataframe\">\n",
              "  <thead>\n",
              "    <tr style=\"text-align: right;\">\n",
              "      <th></th>\n",
              "      <th>Name</th>\n",
              "      <th>Platform</th>\n",
              "      <th>Year</th>\n",
              "      <th>Genre</th>\n",
              "      <th>Publisher</th>\n",
              "      <th>NA_Sales</th>\n",
              "      <th>EU_Sales</th>\n",
              "      <th>JP_Sales</th>\n",
              "      <th>Other_Sales</th>\n",
              "      <th>Global_Sales</th>\n",
              "    </tr>\n",
              "  </thead>\n",
              "  <tbody>\n",
              "    <tr>\n",
              "      <th>10774</th>\n",
              "      <td>InuYasha: Secret of the Divine Jewel</td>\n",
              "      <td>DS</td>\n",
              "      <td>2007</td>\n",
              "      <td>Role-Playing</td>\n",
              "      <td>Namco Bandai Games</td>\n",
              "      <td>0.09</td>\n",
              "      <td>0.0</td>\n",
              "      <td>0.00</td>\n",
              "      <td>0.01</td>\n",
              "      <td>0.10</td>\n",
              "    </tr>\n",
              "    <tr>\n",
              "      <th>6183</th>\n",
              "      <td>Monopoly</td>\n",
              "      <td>DS</td>\n",
              "      <td>2010</td>\n",
              "      <td>Misc</td>\n",
              "      <td>Electronic Arts</td>\n",
              "      <td>0.16</td>\n",
              "      <td>0.1</td>\n",
              "      <td>0.00</td>\n",
              "      <td>0.03</td>\n",
              "      <td>0.28</td>\n",
              "    </tr>\n",
              "    <tr>\n",
              "      <th>11087</th>\n",
              "      <td>Clockwork Knight</td>\n",
              "      <td>SAT</td>\n",
              "      <td>1994</td>\n",
              "      <td>Platform</td>\n",
              "      <td>Sega</td>\n",
              "      <td>0.00</td>\n",
              "      <td>0.0</td>\n",
              "      <td>0.09</td>\n",
              "      <td>0.00</td>\n",
              "      <td>0.09</td>\n",
              "    </tr>\n",
              "  </tbody>\n",
              "</table>\n",
              "</div>\n",
              "      <button class=\"colab-df-convert\" onclick=\"convertToInteractive('df-8f2f91bb-f180-4403-b117-6aa72228c00f')\"\n",
              "              title=\"Convert this dataframe to an interactive table.\"\n",
              "              style=\"display:none;\">\n",
              "        \n",
              "  <svg xmlns=\"http://www.w3.org/2000/svg\" height=\"24px\"viewBox=\"0 0 24 24\"\n",
              "       width=\"24px\">\n",
              "    <path d=\"M0 0h24v24H0V0z\" fill=\"none\"/>\n",
              "    <path d=\"M18.56 5.44l.94 2.06.94-2.06 2.06-.94-2.06-.94-.94-2.06-.94 2.06-2.06.94zm-11 1L8.5 8.5l.94-2.06 2.06-.94-2.06-.94L8.5 2.5l-.94 2.06-2.06.94zm10 10l.94 2.06.94-2.06 2.06-.94-2.06-.94-.94-2.06-.94 2.06-2.06.94z\"/><path d=\"M17.41 7.96l-1.37-1.37c-.4-.4-.92-.59-1.43-.59-.52 0-1.04.2-1.43.59L10.3 9.45l-7.72 7.72c-.78.78-.78 2.05 0 2.83L4 21.41c.39.39.9.59 1.41.59.51 0 1.02-.2 1.41-.59l7.78-7.78 2.81-2.81c.8-.78.8-2.07 0-2.86zM5.41 20L4 18.59l7.72-7.72 1.47 1.35L5.41 20z\"/>\n",
              "  </svg>\n",
              "      </button>\n",
              "      \n",
              "  <style>\n",
              "    .colab-df-container {\n",
              "      display:flex;\n",
              "      flex-wrap:wrap;\n",
              "      gap: 12px;\n",
              "    }\n",
              "\n",
              "    .colab-df-convert {\n",
              "      background-color: #E8F0FE;\n",
              "      border: none;\n",
              "      border-radius: 50%;\n",
              "      cursor: pointer;\n",
              "      display: none;\n",
              "      fill: #1967D2;\n",
              "      height: 32px;\n",
              "      padding: 0 0 0 0;\n",
              "      width: 32px;\n",
              "    }\n",
              "\n",
              "    .colab-df-convert:hover {\n",
              "      background-color: #E2EBFA;\n",
              "      box-shadow: 0px 1px 2px rgba(60, 64, 67, 0.3), 0px 1px 3px 1px rgba(60, 64, 67, 0.15);\n",
              "      fill: #174EA6;\n",
              "    }\n",
              "\n",
              "    [theme=dark] .colab-df-convert {\n",
              "      background-color: #3B4455;\n",
              "      fill: #D2E3FC;\n",
              "    }\n",
              "\n",
              "    [theme=dark] .colab-df-convert:hover {\n",
              "      background-color: #434B5C;\n",
              "      box-shadow: 0px 1px 3px 1px rgba(0, 0, 0, 0.15);\n",
              "      filter: drop-shadow(0px 1px 2px rgba(0, 0, 0, 0.3));\n",
              "      fill: #FFFFFF;\n",
              "    }\n",
              "  </style>\n",
              "\n",
              "      <script>\n",
              "        const buttonEl =\n",
              "          document.querySelector('#df-8f2f91bb-f180-4403-b117-6aa72228c00f button.colab-df-convert');\n",
              "        buttonEl.style.display =\n",
              "          google.colab.kernel.accessAllowed ? 'block' : 'none';\n",
              "\n",
              "        async function convertToInteractive(key) {\n",
              "          const element = document.querySelector('#df-8f2f91bb-f180-4403-b117-6aa72228c00f');\n",
              "          const dataTable =\n",
              "            await google.colab.kernel.invokeFunction('convertToInteractive',\n",
              "                                                     [key], {});\n",
              "          if (!dataTable) return;\n",
              "\n",
              "          const docLinkHtml = 'Like what you see? Visit the ' +\n",
              "            '<a target=\"_blank\" href=https://colab.research.google.com/notebooks/data_table.ipynb>data table notebook</a>'\n",
              "            + ' to learn more about interactive tables.';\n",
              "          element.innerHTML = '';\n",
              "          dataTable['output_type'] = 'display_data';\n",
              "          await google.colab.output.renderOutput(dataTable, element);\n",
              "          const docLink = document.createElement('div');\n",
              "          docLink.innerHTML = docLinkHtml;\n",
              "          element.appendChild(docLink);\n",
              "        }\n",
              "      </script>\n",
              "    </div>\n",
              "  </div>\n",
              "  "
            ]
          },
          "metadata": {},
          "execution_count": 140
        }
      ]
    },
    {
      "cell_type": "markdown",
      "source": [
        "De nuevo, se revisa la **`información general`** del conjunto de datos. Ahora todas las columnas están representadas por medio de formatos que se ajustarán mejor a las necesidades del proceso de análisis. Tampoco hay valores faltantes en la tabla."
      ],
      "metadata": {
        "id": "riOqKEZeO4fK"
      }
    },
    {
      "cell_type": "code",
      "source": [
        "games.info()"
      ],
      "metadata": {
        "colab": {
          "base_uri": "https://localhost:8080/"
        },
        "id": "Eft03DLFCGSN",
        "outputId": "8538ac17-804b-4dde-b5ab-291d5f0d007d"
      },
      "execution_count": 141,
      "outputs": [
        {
          "output_type": "stream",
          "name": "stdout",
          "text": [
            "<class 'pandas.core.frame.DataFrame'>\n",
            "Int64Index: 16291 entries, 0 to 16597\n",
            "Data columns (total 10 columns):\n",
            " #   Column        Non-Null Count  Dtype  \n",
            "---  ------        --------------  -----  \n",
            " 0   Name          16291 non-null  object \n",
            " 1   Platform      16291 non-null  object \n",
            " 2   Year          16291 non-null  int64  \n",
            " 3   Genre         16291 non-null  object \n",
            " 4   Publisher     16291 non-null  object \n",
            " 5   NA_Sales      16291 non-null  float64\n",
            " 6   EU_Sales      16291 non-null  float64\n",
            " 7   JP_Sales      16291 non-null  float64\n",
            " 8   Other_Sales   16291 non-null  float64\n",
            " 9   Global_Sales  16291 non-null  float64\n",
            "dtypes: float64(5), int64(1), object(4)\n",
            "memory usage: 1.4+ MB\n"
          ]
        }
      ]
    },
    {
      "cell_type": "markdown",
      "source": [
        "Con una **`descripción estadística básica`** muy general sobre las columnas numéricas de la tabla se identifican los géneros a tener en cuenta en el presente estudio. También es posible distinguir el **`rango`** que toma el conjunto con respecto a los años de publicación."
      ],
      "metadata": {
        "id": "Iyd82xuJPzvs"
      }
    },
    {
      "cell_type": "code",
      "source": [
        "games.groupby(\"Genre\").describe()"
      ],
      "metadata": {
        "colab": {
          "base_uri": "https://localhost:8080/",
          "height": 599
        },
        "id": "3Cr2e8icD6kL",
        "outputId": "4882f98c-2e5c-46fe-f898-c33bc2c94b15"
      },
      "execution_count": 142,
      "outputs": [
        {
          "output_type": "execute_result",
          "data": {
            "text/plain": [
              "                Year                                                         \\\n",
              "               count         mean       std     min     25%     50%     75%   \n",
              "Genre                                                                         \n",
              "Action        3251.0  2007.906183  6.072900  1980.0  2005.0  2009.0  2012.0   \n",
              "Adventure     1274.0  2008.127943  4.908283  1983.0  2006.0  2009.0  2011.0   \n",
              "Fighting       836.0  2004.630383  6.158271  1980.0  2000.0  2005.0  2009.0   \n",
              "Misc          1686.0  2007.300119  4.680799  1980.0  2005.0  2008.0  2010.0   \n",
              "Platform       875.0  2003.811429  6.386474  1981.0  2001.0  2004.0  2008.0   \n",
              "Puzzle         570.0  2005.228070  6.180124  1981.0  2003.0  2007.0  2009.0   \n",
              "Racing        1225.0  2004.835102  5.281356  1981.0  2002.0  2005.0  2009.0   \n",
              "Role-Playing  1470.0  2007.051020  5.871507  1986.0  2004.0  2008.0  2011.0   \n",
              "Shooter       1282.0  2005.918877  6.354083  1980.0  2003.0  2007.0  2010.0   \n",
              "Simulation     848.0  2006.554245  4.872822  1981.0  2004.0  2008.0  2009.0   \n",
              "Sports        2304.0  2005.477865  5.633659  1980.0  2002.0  2006.0  2009.0   \n",
              "Strategy       670.0  2005.591045  5.438877  1991.0  2002.0  2007.0  2009.0   \n",
              "\n",
              "                     NA_Sales            ... Other_Sales        Global_Sales  \\\n",
              "                 max    count      mean  ...         75%    max        count   \n",
              "Genre                                    ...                                   \n",
              "Action        2017.0   3251.0  0.265078  ...        0.05  10.57       3251.0   \n",
              "Adventure     2016.0   1274.0  0.080008  ...        0.01   0.83       1274.0   \n",
              "Fighting      2016.0    836.0  0.264043  ...        0.04   1.41        836.0   \n",
              "Misc          2016.0   1686.0  0.235421  ...        0.03   2.85       1686.0   \n",
              "Platform      2016.0    875.0  0.509703  ...        0.05   2.90        875.0   \n",
              "Puzzle        2015.0    570.0  0.214053  ...        0.01   1.18        570.0   \n",
              "Racing        2016.0   1225.0  0.291371  ...        0.05   7.53       1225.0   \n",
              "Role-Playing  2017.0   1470.0  0.222109  ...        0.03   1.74       1470.0   \n",
              "Shooter       2016.0   1282.0  0.448643  ...        0.07   2.52       1282.0   \n",
              "Simulation    2020.0    848.0  0.214363  ...        0.03   2.75        848.0   \n",
              "Sports        2016.0   2304.0  0.290838  ...        0.04   8.46       2304.0   \n",
              "Strategy      2016.0    670.0  0.101239  ...        0.01   0.59        670.0   \n",
              "\n",
              "                                                                   \n",
              "                  mean       std   min   25%    50%    75%    max  \n",
              "Genre                                                              \n",
              "Action        0.529942  1.165238  0.01  0.07  0.190  0.500  21.40  \n",
              "Adventure     0.184137  0.510902  0.01  0.02  0.060  0.160  11.18  \n",
              "Fighting      0.531160  0.957915  0.01  0.08  0.210  0.550  13.04  \n",
              "Misc          0.468488  1.332150  0.01  0.06  0.160  0.410  29.02  \n",
              "Platform      0.947577  2.599940  0.01  0.09  0.280  0.815  40.24  \n",
              "Puzzle        0.424930  1.577565  0.01  0.04  0.105  0.300  30.26  \n",
              "Racing        0.593273  1.677373  0.01  0.07  0.190  0.530  35.82  \n",
              "Role-Playing  0.628456  1.717452  0.01  0.07  0.190  0.530  31.37  \n",
              "Shooter       0.800468  1.833578  0.01  0.08  0.230  0.740  28.31  \n",
              "Simulation    0.459882  1.207428  0.01  0.05  0.160  0.430  24.76  \n",
              "Sports        0.568247  2.104926  0.01  0.09  0.220  0.560  82.74  \n",
              "Strategy      0.258612  0.524575  0.01  0.04  0.090  0.270   5.45  \n",
              "\n",
              "[12 rows x 48 columns]"
            ],
            "text/html": [
              "\n",
              "  <div id=\"df-c6ce059e-f5a4-45a8-a975-711dd761b103\">\n",
              "    <div class=\"colab-df-container\">\n",
              "      <div>\n",
              "<style scoped>\n",
              "    .dataframe tbody tr th:only-of-type {\n",
              "        vertical-align: middle;\n",
              "    }\n",
              "\n",
              "    .dataframe tbody tr th {\n",
              "        vertical-align: top;\n",
              "    }\n",
              "\n",
              "    .dataframe thead tr th {\n",
              "        text-align: left;\n",
              "    }\n",
              "\n",
              "    .dataframe thead tr:last-of-type th {\n",
              "        text-align: right;\n",
              "    }\n",
              "</style>\n",
              "<table border=\"1\" class=\"dataframe\">\n",
              "  <thead>\n",
              "    <tr>\n",
              "      <th></th>\n",
              "      <th colspan=\"8\" halign=\"left\">Year</th>\n",
              "      <th colspan=\"2\" halign=\"left\">NA_Sales</th>\n",
              "      <th>...</th>\n",
              "      <th colspan=\"2\" halign=\"left\">Other_Sales</th>\n",
              "      <th colspan=\"8\" halign=\"left\">Global_Sales</th>\n",
              "    </tr>\n",
              "    <tr>\n",
              "      <th></th>\n",
              "      <th>count</th>\n",
              "      <th>mean</th>\n",
              "      <th>std</th>\n",
              "      <th>min</th>\n",
              "      <th>25%</th>\n",
              "      <th>50%</th>\n",
              "      <th>75%</th>\n",
              "      <th>max</th>\n",
              "      <th>count</th>\n",
              "      <th>mean</th>\n",
              "      <th>...</th>\n",
              "      <th>75%</th>\n",
              "      <th>max</th>\n",
              "      <th>count</th>\n",
              "      <th>mean</th>\n",
              "      <th>std</th>\n",
              "      <th>min</th>\n",
              "      <th>25%</th>\n",
              "      <th>50%</th>\n",
              "      <th>75%</th>\n",
              "      <th>max</th>\n",
              "    </tr>\n",
              "    <tr>\n",
              "      <th>Genre</th>\n",
              "      <th></th>\n",
              "      <th></th>\n",
              "      <th></th>\n",
              "      <th></th>\n",
              "      <th></th>\n",
              "      <th></th>\n",
              "      <th></th>\n",
              "      <th></th>\n",
              "      <th></th>\n",
              "      <th></th>\n",
              "      <th></th>\n",
              "      <th></th>\n",
              "      <th></th>\n",
              "      <th></th>\n",
              "      <th></th>\n",
              "      <th></th>\n",
              "      <th></th>\n",
              "      <th></th>\n",
              "      <th></th>\n",
              "      <th></th>\n",
              "      <th></th>\n",
              "    </tr>\n",
              "  </thead>\n",
              "  <tbody>\n",
              "    <tr>\n",
              "      <th>Action</th>\n",
              "      <td>3251.0</td>\n",
              "      <td>2007.906183</td>\n",
              "      <td>6.072900</td>\n",
              "      <td>1980.0</td>\n",
              "      <td>2005.0</td>\n",
              "      <td>2009.0</td>\n",
              "      <td>2012.0</td>\n",
              "      <td>2017.0</td>\n",
              "      <td>3251.0</td>\n",
              "      <td>0.265078</td>\n",
              "      <td>...</td>\n",
              "      <td>0.05</td>\n",
              "      <td>10.57</td>\n",
              "      <td>3251.0</td>\n",
              "      <td>0.529942</td>\n",
              "      <td>1.165238</td>\n",
              "      <td>0.01</td>\n",
              "      <td>0.07</td>\n",
              "      <td>0.190</td>\n",
              "      <td>0.500</td>\n",
              "      <td>21.40</td>\n",
              "    </tr>\n",
              "    <tr>\n",
              "      <th>Adventure</th>\n",
              "      <td>1274.0</td>\n",
              "      <td>2008.127943</td>\n",
              "      <td>4.908283</td>\n",
              "      <td>1983.0</td>\n",
              "      <td>2006.0</td>\n",
              "      <td>2009.0</td>\n",
              "      <td>2011.0</td>\n",
              "      <td>2016.0</td>\n",
              "      <td>1274.0</td>\n",
              "      <td>0.080008</td>\n",
              "      <td>...</td>\n",
              "      <td>0.01</td>\n",
              "      <td>0.83</td>\n",
              "      <td>1274.0</td>\n",
              "      <td>0.184137</td>\n",
              "      <td>0.510902</td>\n",
              "      <td>0.01</td>\n",
              "      <td>0.02</td>\n",
              "      <td>0.060</td>\n",
              "      <td>0.160</td>\n",
              "      <td>11.18</td>\n",
              "    </tr>\n",
              "    <tr>\n",
              "      <th>Fighting</th>\n",
              "      <td>836.0</td>\n",
              "      <td>2004.630383</td>\n",
              "      <td>6.158271</td>\n",
              "      <td>1980.0</td>\n",
              "      <td>2000.0</td>\n",
              "      <td>2005.0</td>\n",
              "      <td>2009.0</td>\n",
              "      <td>2016.0</td>\n",
              "      <td>836.0</td>\n",
              "      <td>0.264043</td>\n",
              "      <td>...</td>\n",
              "      <td>0.04</td>\n",
              "      <td>1.41</td>\n",
              "      <td>836.0</td>\n",
              "      <td>0.531160</td>\n",
              "      <td>0.957915</td>\n",
              "      <td>0.01</td>\n",
              "      <td>0.08</td>\n",
              "      <td>0.210</td>\n",
              "      <td>0.550</td>\n",
              "      <td>13.04</td>\n",
              "    </tr>\n",
              "    <tr>\n",
              "      <th>Misc</th>\n",
              "      <td>1686.0</td>\n",
              "      <td>2007.300119</td>\n",
              "      <td>4.680799</td>\n",
              "      <td>1980.0</td>\n",
              "      <td>2005.0</td>\n",
              "      <td>2008.0</td>\n",
              "      <td>2010.0</td>\n",
              "      <td>2016.0</td>\n",
              "      <td>1686.0</td>\n",
              "      <td>0.235421</td>\n",
              "      <td>...</td>\n",
              "      <td>0.03</td>\n",
              "      <td>2.85</td>\n",
              "      <td>1686.0</td>\n",
              "      <td>0.468488</td>\n",
              "      <td>1.332150</td>\n",
              "      <td>0.01</td>\n",
              "      <td>0.06</td>\n",
              "      <td>0.160</td>\n",
              "      <td>0.410</td>\n",
              "      <td>29.02</td>\n",
              "    </tr>\n",
              "    <tr>\n",
              "      <th>Platform</th>\n",
              "      <td>875.0</td>\n",
              "      <td>2003.811429</td>\n",
              "      <td>6.386474</td>\n",
              "      <td>1981.0</td>\n",
              "      <td>2001.0</td>\n",
              "      <td>2004.0</td>\n",
              "      <td>2008.0</td>\n",
              "      <td>2016.0</td>\n",
              "      <td>875.0</td>\n",
              "      <td>0.509703</td>\n",
              "      <td>...</td>\n",
              "      <td>0.05</td>\n",
              "      <td>2.90</td>\n",
              "      <td>875.0</td>\n",
              "      <td>0.947577</td>\n",
              "      <td>2.599940</td>\n",
              "      <td>0.01</td>\n",
              "      <td>0.09</td>\n",
              "      <td>0.280</td>\n",
              "      <td>0.815</td>\n",
              "      <td>40.24</td>\n",
              "    </tr>\n",
              "    <tr>\n",
              "      <th>Puzzle</th>\n",
              "      <td>570.0</td>\n",
              "      <td>2005.228070</td>\n",
              "      <td>6.180124</td>\n",
              "      <td>1981.0</td>\n",
              "      <td>2003.0</td>\n",
              "      <td>2007.0</td>\n",
              "      <td>2009.0</td>\n",
              "      <td>2015.0</td>\n",
              "      <td>570.0</td>\n",
              "      <td>0.214053</td>\n",
              "      <td>...</td>\n",
              "      <td>0.01</td>\n",
              "      <td>1.18</td>\n",
              "      <td>570.0</td>\n",
              "      <td>0.424930</td>\n",
              "      <td>1.577565</td>\n",
              "      <td>0.01</td>\n",
              "      <td>0.04</td>\n",
              "      <td>0.105</td>\n",
              "      <td>0.300</td>\n",
              "      <td>30.26</td>\n",
              "    </tr>\n",
              "    <tr>\n",
              "      <th>Racing</th>\n",
              "      <td>1225.0</td>\n",
              "      <td>2004.835102</td>\n",
              "      <td>5.281356</td>\n",
              "      <td>1981.0</td>\n",
              "      <td>2002.0</td>\n",
              "      <td>2005.0</td>\n",
              "      <td>2009.0</td>\n",
              "      <td>2016.0</td>\n",
              "      <td>1225.0</td>\n",
              "      <td>0.291371</td>\n",
              "      <td>...</td>\n",
              "      <td>0.05</td>\n",
              "      <td>7.53</td>\n",
              "      <td>1225.0</td>\n",
              "      <td>0.593273</td>\n",
              "      <td>1.677373</td>\n",
              "      <td>0.01</td>\n",
              "      <td>0.07</td>\n",
              "      <td>0.190</td>\n",
              "      <td>0.530</td>\n",
              "      <td>35.82</td>\n",
              "    </tr>\n",
              "    <tr>\n",
              "      <th>Role-Playing</th>\n",
              "      <td>1470.0</td>\n",
              "      <td>2007.051020</td>\n",
              "      <td>5.871507</td>\n",
              "      <td>1986.0</td>\n",
              "      <td>2004.0</td>\n",
              "      <td>2008.0</td>\n",
              "      <td>2011.0</td>\n",
              "      <td>2017.0</td>\n",
              "      <td>1470.0</td>\n",
              "      <td>0.222109</td>\n",
              "      <td>...</td>\n",
              "      <td>0.03</td>\n",
              "      <td>1.74</td>\n",
              "      <td>1470.0</td>\n",
              "      <td>0.628456</td>\n",
              "      <td>1.717452</td>\n",
              "      <td>0.01</td>\n",
              "      <td>0.07</td>\n",
              "      <td>0.190</td>\n",
              "      <td>0.530</td>\n",
              "      <td>31.37</td>\n",
              "    </tr>\n",
              "    <tr>\n",
              "      <th>Shooter</th>\n",
              "      <td>1282.0</td>\n",
              "      <td>2005.918877</td>\n",
              "      <td>6.354083</td>\n",
              "      <td>1980.0</td>\n",
              "      <td>2003.0</td>\n",
              "      <td>2007.0</td>\n",
              "      <td>2010.0</td>\n",
              "      <td>2016.0</td>\n",
              "      <td>1282.0</td>\n",
              "      <td>0.448643</td>\n",
              "      <td>...</td>\n",
              "      <td>0.07</td>\n",
              "      <td>2.52</td>\n",
              "      <td>1282.0</td>\n",
              "      <td>0.800468</td>\n",
              "      <td>1.833578</td>\n",
              "      <td>0.01</td>\n",
              "      <td>0.08</td>\n",
              "      <td>0.230</td>\n",
              "      <td>0.740</td>\n",
              "      <td>28.31</td>\n",
              "    </tr>\n",
              "    <tr>\n",
              "      <th>Simulation</th>\n",
              "      <td>848.0</td>\n",
              "      <td>2006.554245</td>\n",
              "      <td>4.872822</td>\n",
              "      <td>1981.0</td>\n",
              "      <td>2004.0</td>\n",
              "      <td>2008.0</td>\n",
              "      <td>2009.0</td>\n",
              "      <td>2020.0</td>\n",
              "      <td>848.0</td>\n",
              "      <td>0.214363</td>\n",
              "      <td>...</td>\n",
              "      <td>0.03</td>\n",
              "      <td>2.75</td>\n",
              "      <td>848.0</td>\n",
              "      <td>0.459882</td>\n",
              "      <td>1.207428</td>\n",
              "      <td>0.01</td>\n",
              "      <td>0.05</td>\n",
              "      <td>0.160</td>\n",
              "      <td>0.430</td>\n",
              "      <td>24.76</td>\n",
              "    </tr>\n",
              "    <tr>\n",
              "      <th>Sports</th>\n",
              "      <td>2304.0</td>\n",
              "      <td>2005.477865</td>\n",
              "      <td>5.633659</td>\n",
              "      <td>1980.0</td>\n",
              "      <td>2002.0</td>\n",
              "      <td>2006.0</td>\n",
              "      <td>2009.0</td>\n",
              "      <td>2016.0</td>\n",
              "      <td>2304.0</td>\n",
              "      <td>0.290838</td>\n",
              "      <td>...</td>\n",
              "      <td>0.04</td>\n",
              "      <td>8.46</td>\n",
              "      <td>2304.0</td>\n",
              "      <td>0.568247</td>\n",
              "      <td>2.104926</td>\n",
              "      <td>0.01</td>\n",
              "      <td>0.09</td>\n",
              "      <td>0.220</td>\n",
              "      <td>0.560</td>\n",
              "      <td>82.74</td>\n",
              "    </tr>\n",
              "    <tr>\n",
              "      <th>Strategy</th>\n",
              "      <td>670.0</td>\n",
              "      <td>2005.591045</td>\n",
              "      <td>5.438877</td>\n",
              "      <td>1991.0</td>\n",
              "      <td>2002.0</td>\n",
              "      <td>2007.0</td>\n",
              "      <td>2009.0</td>\n",
              "      <td>2016.0</td>\n",
              "      <td>670.0</td>\n",
              "      <td>0.101239</td>\n",
              "      <td>...</td>\n",
              "      <td>0.01</td>\n",
              "      <td>0.59</td>\n",
              "      <td>670.0</td>\n",
              "      <td>0.258612</td>\n",
              "      <td>0.524575</td>\n",
              "      <td>0.01</td>\n",
              "      <td>0.04</td>\n",
              "      <td>0.090</td>\n",
              "      <td>0.270</td>\n",
              "      <td>5.45</td>\n",
              "    </tr>\n",
              "  </tbody>\n",
              "</table>\n",
              "<p>12 rows × 48 columns</p>\n",
              "</div>\n",
              "      <button class=\"colab-df-convert\" onclick=\"convertToInteractive('df-c6ce059e-f5a4-45a8-a975-711dd761b103')\"\n",
              "              title=\"Convert this dataframe to an interactive table.\"\n",
              "              style=\"display:none;\">\n",
              "        \n",
              "  <svg xmlns=\"http://www.w3.org/2000/svg\" height=\"24px\"viewBox=\"0 0 24 24\"\n",
              "       width=\"24px\">\n",
              "    <path d=\"M0 0h24v24H0V0z\" fill=\"none\"/>\n",
              "    <path d=\"M18.56 5.44l.94 2.06.94-2.06 2.06-.94-2.06-.94-.94-2.06-.94 2.06-2.06.94zm-11 1L8.5 8.5l.94-2.06 2.06-.94-2.06-.94L8.5 2.5l-.94 2.06-2.06.94zm10 10l.94 2.06.94-2.06 2.06-.94-2.06-.94-.94-2.06-.94 2.06-2.06.94z\"/><path d=\"M17.41 7.96l-1.37-1.37c-.4-.4-.92-.59-1.43-.59-.52 0-1.04.2-1.43.59L10.3 9.45l-7.72 7.72c-.78.78-.78 2.05 0 2.83L4 21.41c.39.39.9.59 1.41.59.51 0 1.02-.2 1.41-.59l7.78-7.78 2.81-2.81c.8-.78.8-2.07 0-2.86zM5.41 20L4 18.59l7.72-7.72 1.47 1.35L5.41 20z\"/>\n",
              "  </svg>\n",
              "      </button>\n",
              "      \n",
              "  <style>\n",
              "    .colab-df-container {\n",
              "      display:flex;\n",
              "      flex-wrap:wrap;\n",
              "      gap: 12px;\n",
              "    }\n",
              "\n",
              "    .colab-df-convert {\n",
              "      background-color: #E8F0FE;\n",
              "      border: none;\n",
              "      border-radius: 50%;\n",
              "      cursor: pointer;\n",
              "      display: none;\n",
              "      fill: #1967D2;\n",
              "      height: 32px;\n",
              "      padding: 0 0 0 0;\n",
              "      width: 32px;\n",
              "    }\n",
              "\n",
              "    .colab-df-convert:hover {\n",
              "      background-color: #E2EBFA;\n",
              "      box-shadow: 0px 1px 2px rgba(60, 64, 67, 0.3), 0px 1px 3px 1px rgba(60, 64, 67, 0.15);\n",
              "      fill: #174EA6;\n",
              "    }\n",
              "\n",
              "    [theme=dark] .colab-df-convert {\n",
              "      background-color: #3B4455;\n",
              "      fill: #D2E3FC;\n",
              "    }\n",
              "\n",
              "    [theme=dark] .colab-df-convert:hover {\n",
              "      background-color: #434B5C;\n",
              "      box-shadow: 0px 1px 3px 1px rgba(0, 0, 0, 0.15);\n",
              "      filter: drop-shadow(0px 1px 2px rgba(0, 0, 0, 0.3));\n",
              "      fill: #FFFFFF;\n",
              "    }\n",
              "  </style>\n",
              "\n",
              "      <script>\n",
              "        const buttonEl =\n",
              "          document.querySelector('#df-c6ce059e-f5a4-45a8-a975-711dd761b103 button.colab-df-convert');\n",
              "        buttonEl.style.display =\n",
              "          google.colab.kernel.accessAllowed ? 'block' : 'none';\n",
              "\n",
              "        async function convertToInteractive(key) {\n",
              "          const element = document.querySelector('#df-c6ce059e-f5a4-45a8-a975-711dd761b103');\n",
              "          const dataTable =\n",
              "            await google.colab.kernel.invokeFunction('convertToInteractive',\n",
              "                                                     [key], {});\n",
              "          if (!dataTable) return;\n",
              "\n",
              "          const docLinkHtml = 'Like what you see? Visit the ' +\n",
              "            '<a target=\"_blank\" href=https://colab.research.google.com/notebooks/data_table.ipynb>data table notebook</a>'\n",
              "            + ' to learn more about interactive tables.';\n",
              "          element.innerHTML = '';\n",
              "          dataTable['output_type'] = 'display_data';\n",
              "          await google.colab.output.renderOutput(dataTable, element);\n",
              "          const docLink = document.createElement('div');\n",
              "          docLink.innerHTML = docLinkHtml;\n",
              "          element.appendChild(docLink);\n",
              "        }\n",
              "      </script>\n",
              "    </div>\n",
              "  </div>\n",
              "  "
            ]
          },
          "metadata": {},
          "execution_count": 142
        }
      ]
    },
    {
      "cell_type": "markdown",
      "source": [
        "Al utilizar el método **`value_counts`** sobre la columna **`Genre`**, se puede concluir que los juegos más populares (según la cantidad de publicaciones) son aquellos que pertenecen a los géneros de acción y deportes con 3251 y 2304 ejemplos, respectivamente."
      ],
      "metadata": {
        "id": "T1CCIiT2Sjxx"
      }
    },
    {
      "cell_type": "code",
      "source": [
        "games[\"Genre\"].value_counts()"
      ],
      "metadata": {
        "colab": {
          "base_uri": "https://localhost:8080/"
        },
        "id": "t6iBCxCETHt3",
        "outputId": "5e7d1702-e878-497a-f642-426cb4163d7f"
      },
      "execution_count": 143,
      "outputs": [
        {
          "output_type": "execute_result",
          "data": {
            "text/plain": [
              "Action          3251\n",
              "Sports          2304\n",
              "Misc            1686\n",
              "Role-Playing    1470\n",
              "Shooter         1282\n",
              "Adventure       1274\n",
              "Racing          1225\n",
              "Platform         875\n",
              "Simulation       848\n",
              "Fighting         836\n",
              "Strategy         670\n",
              "Puzzle           570\n",
              "Name: Genre, dtype: int64"
            ]
          },
          "metadata": {},
          "execution_count": 143
        }
      ]
    },
    {
      "cell_type": "markdown",
      "source": [
        "Con el mismo método usado en la celda anterior, se muestra la **`frecuencia`** de juegos publicados por **`año`**."
      ],
      "metadata": {
        "id": "1YRPkIwBUSS7"
      }
    },
    {
      "cell_type": "code",
      "source": [
        "games[\"Year\"].value_counts().sort_index()"
      ],
      "metadata": {
        "colab": {
          "base_uri": "https://localhost:8080/"
        },
        "id": "CIiqXM5LU0qn",
        "outputId": "3cdd30fa-038f-4da8-83fb-73e127facdef"
      },
      "execution_count": 144,
      "outputs": [
        {
          "output_type": "execute_result",
          "data": {
            "text/plain": [
              "1980       9\n",
              "1981      46\n",
              "1982      36\n",
              "1983      17\n",
              "1984      14\n",
              "1985      14\n",
              "1986      21\n",
              "1987      16\n",
              "1988      15\n",
              "1989      17\n",
              "1990      16\n",
              "1991      41\n",
              "1992      43\n",
              "1993      60\n",
              "1994     121\n",
              "1995     219\n",
              "1996     263\n",
              "1997     289\n",
              "1998     379\n",
              "1999     338\n",
              "2000     349\n",
              "2001     482\n",
              "2002     829\n",
              "2003     775\n",
              "2004     744\n",
              "2005     936\n",
              "2006    1008\n",
              "2007    1201\n",
              "2008    1428\n",
              "2009    1431\n",
              "2010    1257\n",
              "2011    1136\n",
              "2012     655\n",
              "2013     546\n",
              "2014     580\n",
              "2015     614\n",
              "2016     342\n",
              "2017       3\n",
              "2020       1\n",
              "Name: Year, dtype: int64"
            ]
          },
          "metadata": {},
          "execution_count": 144
        }
      ]
    },
    {
      "cell_type": "markdown",
      "source": [
        "Para apreciar estos datos más claramente, se utiliza un histograma con el número de **`ocurrencias`** por año."
      ],
      "metadata": {
        "id": "lM1vROxrS6C5"
      }
    },
    {
      "cell_type": "code",
      "source": [
        "sns.histplot(games[\"Year\"], bins=39);"
      ],
      "metadata": {
        "colab": {
          "base_uri": "https://localhost:8080/",
          "height": 427
        },
        "id": "Ptkq5p1QS7LF",
        "outputId": "fccf81f2-ac21-48ec-ab2c-be07174aebc7"
      },
      "execution_count": 145,
      "outputs": [
        {
          "output_type": "display_data",
          "data": {
            "text/plain": [
              "<Figure size 660x440 with 1 Axes>"
            ],
            "image/png": "[encoded data removed]"
          },
          "metadata": {}
        }
      ]
    },
    {
      "cell_type": "markdown",
      "source": [
        "# **Modelamiento**\n",
        "---"
      ],
      "metadata": {
        "id": "3m_4GXIujKpE"
      }
    },
    {
      "cell_type": "markdown",
      "source": [
        "## **1. Partición de registros**\n",
        "---"
      ],
      "metadata": {
        "id": "a566VwivjQcB"
      }
    },
    {
      "cell_type": "markdown",
      "source": [
        "Se genera la **`división`** entre la matriz de ejemplos y el vector de etiquetas objetivo."
      ],
      "metadata": {
        "id": "hdR3eoAAYpvs"
      }
    },
    {
      "cell_type": "code",
      "source": [
        "X = games.drop(columns=[\"Genre\"])\n",
        "y = games[\"Genre\"].values"
      ],
      "metadata": {
        "id": "3I0-wDq9BPFH"
      },
      "execution_count": 146,
      "outputs": []
    },
    {
      "cell_type": "markdown",
      "source": [
        "Anteriormente se vio que el conjunto de datos posee algunas características representadas por medio de **`variables categóricas`**, por lo que es necesario **`codificarlas`** para que el modelo de aprendizaje reciba valores numéricos."
      ],
      "metadata": {
        "id": "rWpndEdcY-Ik"
      }
    },
    {
      "cell_type": "code",
      "source": [
        "numeric = [\"Year\", \"NA_Sales\", \"EU_Sales\", \"JP_Sales\", \"Other_Sales\", \"Global_Sales\"]\n",
        "X_numeric = X[numeric].values # Selección de variables numéricas"
      ],
      "metadata": {
        "id": "K3M2SRTyBS6g"
      },
      "execution_count": 147,
      "outputs": []
    },
    {
      "cell_type": "code",
      "source": [
        "X_categoric = X[[\"Platform\", \"Publisher\"]].values # Selección de variables categóricas\n",
        "enc = OneHotEncoder(sparse=False)\n",
        "X_categoric_onehot = enc.fit_transform(X_categoric)"
      ],
      "metadata": {
        "id": "L1IfD-uTCD0J"
      },
      "execution_count": 148,
      "outputs": []
    },
    {
      "cell_type": "code",
      "source": [
        "X = np.concatenate((X_numeric, X_categoric_onehot), axis=1)"
      ],
      "metadata": {
        "id": "kkZcGSDPDU7x"
      },
      "execution_count": 149,
      "outputs": []
    },
    {
      "cell_type": "markdown",
      "source": [
        "También se separan los datos de **`entrenamiento`** de los ejemplos con los que, posteriormente, se estimará el desempeño del modelo. Para esto se usará el **20%** de los registros en la evaluación de **`prueba`**."
      ],
      "metadata": {
        "id": "cRHaGVqgbVK0"
      }
    },
    {
      "cell_type": "code",
      "source": [
        "X_train, X_test, y_train, y_test = train_test_split(X, y, test_size=0.2, random_state=42, stratify=y)"
      ],
      "metadata": {
        "id": "eaoxy_b694Qu"
      },
      "execution_count": 150,
      "outputs": []
    },
    {
      "cell_type": "markdown",
      "source": [
        "## **2. Validación cruzada**\n",
        "---"
      ],
      "metadata": {
        "id": "8QKp2Wj2E8tR"
      }
    },
    {
      "cell_type": "markdown",
      "source": [
        "Para la **`clasificación`** de los videojuegos se utilizará el método de **`bosques aleatorios`**. Además, el modelo se evaluará con distintos valores en hiperparámetros como la cantidad de árboles de decisión y la proporción de carácteristicas a considerar."
      ],
      "metadata": {
        "id": "vJI6T4NLc-J1"
      }
    },
    {
      "cell_type": "code",
      "source": [
        "parameters = {\"n_estimators\": [50, 75], \"max_features\": [0.5, 0.7]}"
      ],
      "metadata": {
        "id": "E3SX9YFSE18s"
      },
      "execution_count": 151,
      "outputs": []
    },
    {
      "cell_type": "code",
      "source": [
        "grid_clf = GridSearchCV(RandomForestClassifier(), parameters, verbose=3, return_train_score=True)\n",
        "grid_clf.fit(X_train, y_train)"
      ],
      "metadata": {
        "colab": {
          "base_uri": "https://localhost:8080/"
        },
        "id": "Yz5TpLezFEWR",
        "outputId": "0085cfb0-1e2e-4c75-dcc0-3fd13f8a24bc"
      },
      "execution_count": 152,
      "outputs": [
        {
          "output_type": "stream",
          "name": "stdout",
          "text": [
            "Fitting 5 folds for each of 4 candidates, totalling 20 fits\n",
            "[CV 1/5] END max_features=0.5, n_estimators=50;, score=(train=0.980, test=0.340) total time=  13.7s\n",
            "[CV 2/5] END max_features=0.5, n_estimators=50;, score=(train=0.979, test=0.341) total time=  17.1s\n",
            "[CV 3/5] END max_features=0.5, n_estimators=50;, score=(train=0.979, test=0.321) total time=  10.7s\n",
            "[CV 4/5] END max_features=0.5, n_estimators=50;, score=(train=0.980, test=0.328) total time=   8.7s\n",
            "[CV 5/5] END max_features=0.5, n_estimators=50;, score=(train=0.978, test=0.339) total time=   8.7s\n",
            "[CV 1/5] END max_features=0.5, n_estimators=75;, score=(train=0.980, test=0.353) total time=  13.2s\n",
            "[CV 2/5] END max_features=0.5, n_estimators=75;, score=(train=0.979, test=0.347) total time=  12.7s\n",
            "[CV 3/5] END max_features=0.5, n_estimators=75;, score=(train=0.980, test=0.335) total time=  12.7s\n",
            "[CV 4/5] END max_features=0.5, n_estimators=75;, score=(train=0.980, test=0.330) total time=  12.4s\n",
            "[CV 5/5] END max_features=0.5, n_estimators=75;, score=(train=0.978, test=0.333) total time=  12.9s\n",
            "[CV 1/5] END max_features=0.7, n_estimators=50;, score=(train=0.980, test=0.349) total time=  12.6s\n",
            "[CV 2/5] END max_features=0.7, n_estimators=50;, score=(train=0.979, test=0.334) total time=  10.9s\n",
            "[CV 3/5] END max_features=0.7, n_estimators=50;, score=(train=0.979, test=0.334) total time=  10.8s\n",
            "[CV 4/5] END max_features=0.7, n_estimators=50;, score=(train=0.980, test=0.332) total time=  10.7s\n",
            "[CV 5/5] END max_features=0.7, n_estimators=50;, score=(train=0.978, test=0.342) total time=   9.9s\n",
            "[CV 1/5] END max_features=0.7, n_estimators=75;, score=(train=0.980, test=0.351) total time=  13.1s\n",
            "[CV 2/5] END max_features=0.7, n_estimators=75;, score=(train=0.979, test=0.340) total time=  12.5s\n",
            "[CV 3/5] END max_features=0.7, n_estimators=75;, score=(train=0.980, test=0.325) total time=  12.6s\n",
            "[CV 4/5] END max_features=0.7, n_estimators=75;, score=(train=0.980, test=0.330) total time=  12.8s\n",
            "[CV 5/5] END max_features=0.7, n_estimators=75;, score=(train=0.978, test=0.338) total time=  13.0s\n"
          ]
        },
        {
          "output_type": "execute_result",
          "data": {
            "text/plain": [
              "GridSearchCV(estimator=RandomForestClassifier(),\n",
              "             param_grid={'max_features': [0.5, 0.7], 'n_estimators': [50, 75]},\n",
              "             return_train_score=True, verbose=3)"
            ]
          },
          "metadata": {},
          "execution_count": 152
        }
      ]
    },
    {
      "cell_type": "markdown",
      "source": [
        "## **3. Reducción de dimensionalidad y visualización**\n",
        "---"
      ],
      "metadata": {
        "id": "F04Bpr2nsfBN"
      }
    },
    {
      "cell_type": "markdown",
      "source": [
        "Se presenta una **`varianza explicada`** mayor al 90% con solo dos componentes de los registros."
      ],
      "metadata": {
        "id": "oJtU-eBttoCV"
      }
    },
    {
      "cell_type": "code",
      "source": [
        "pca = PCA()\n",
        "\n",
        "pca.fit_transform(X)\n",
        "varianza_expl = pca.explained_variance_ratio_\n",
        "cum_var_exp = np.cumsum(varianza_expl)\n",
        "print(f'Primeras 2 componentes: {cum_var_exp[1]}')\n",
        "cumulative_explained_variance_plot(varianza_expl)"
      ],
      "metadata": {
        "colab": {
          "base_uri": "https://localhost:8080/",
          "height": 607
        },
        "id": "MmyKwxD1mIei",
        "outputId": "18f659f4-2077-4f5e-bdf8-79cf4aca2230"
      },
      "execution_count": 153,
      "outputs": [
        {
          "output_type": "stream",
          "name": "stdout",
          "text": [
            "Primeras 2 componentes: 0.948092508472139\n"
          ]
        },
        {
          "output_type": "display_data",
          "data": {
            "text/plain": [
              "<Figure size 1050x630 with 1 Axes>"
            ],
            "image/png": "[encoded data removed]"
          },
          "metadata": {}
        }
      ]
    },
    {
      "cell_type": "markdown",
      "source": [
        "Al visualizar los datos con sus dos **`componentes principales`** no se logran identificar grupos bien definidos"
      ],
      "metadata": {
        "id": "jeWfAyBMs3ef"
      }
    },
    {
      "cell_type": "code",
      "source": [
        "sc = StandardScaler()\n",
        "sc.fit(X)\n",
        "X_scaled = sc.transform(X)"
      ],
      "metadata": {
        "id": "c31YrPJOqg5M"
      },
      "execution_count": 154,
      "outputs": []
    },
    {
      "cell_type": "code",
      "source": [
        "pca = PCA(n_components=2)\n",
        "Xp = pca.fit_transform(X_scaled)\n",
        "\n",
        "plt.figure(figsize = (10, 8), dpi = 105)\n",
        "plt.xlabel(\"Componente principal 1\")\n",
        "plt.ylabel(\"Componente principal 2\")\n",
        "plt.title(\"Vectores singulares más significativos\")\n",
        "\n",
        "plot_data(Xp, y)"
      ],
      "metadata": {
        "colab": {
          "base_uri": "https://localhost:8080/",
          "height": 748
        },
        "id": "e7nR_uRqp1eL",
        "outputId": "6b3332c9-1fc8-4fee-e10a-3bea8c4a1b22"
      },
      "execution_count": 155,
      "outputs": [
        {
          "output_type": "display_data",
          "data": {
            "text/plain": [
              "<Figure size 1050x840 with 1 Axes>"
            ],
            "image/png": "[encoded data removed]"
          },
          "metadata": {}
        }
      ]
    },
    {
      "cell_type": "markdown",
      "source": [
        "# **Evaluación de desempeño**\n",
        "---"
      ],
      "metadata": {
        "id": "y1vtGMjm9CaI"
      }
    },
    {
      "cell_type": "markdown",
      "source": [
        "## **1. Evaluación**\n",
        "---"
      ],
      "metadata": {
        "id": "SYB1tJax9Lbd"
      }
    },
    {
      "cell_type": "markdown",
      "source": [
        "Se evalúa el desempeño del **`mejor clasificador`** en validación y se muestran sus parámetros."
      ],
      "metadata": {
        "id": "eRsHDdfcefDW"
      }
    },
    {
      "cell_type": "code",
      "source": [
        "print(f\"Mejor score: {grid_clf.best_score_}\")\n",
        "print(\"Mejor configuración de parámetros:\")\n",
        "\n",
        "best_parameters = grid_clf.best_params_\n",
        "for param in sorted(parameters.keys()):\n",
        "    print(f\"\\t{param}: {best_parameters[param]}\")"
      ],
      "metadata": {
        "colab": {
          "base_uri": "https://localhost:8080/"
        },
        "id": "0UJ8c84KH5Hz",
        "outputId": "59e39da8-80f6-4693-fbc2-23a67015ac3e"
      },
      "execution_count": 156,
      "outputs": [
        {
          "output_type": "stream",
          "name": "stdout",
          "text": [
            "Mejor score: 0.3397774043023079\n",
            "Mejor configuración de parámetros:\n",
            "\tmax_features: 0.5\n",
            "\tn_estimators: 75\n"
          ]
        }
      ]
    },
    {
      "cell_type": "markdown",
      "source": [
        "Por último, se utilizan los registros que no hicieron parte del entrenamiento para evaluar el desempeño del modelo al clasificar **`datos desconocidos`**."
      ],
      "metadata": {
        "id": "wPPoR-2kfLk9"
      }
    },
    {
      "cell_type": "code",
      "source": [
        "grid_clf.score(X_test, y_test)"
      ],
      "metadata": {
        "colab": {
          "base_uri": "https://localhost:8080/"
        },
        "id": "f4z2YiTzM8Rd",
        "outputId": "45e0dea0-a7b2-4e3d-fac0-46112e400af2"
      },
      "execution_count": 157,
      "outputs": [
        {
          "output_type": "execute_result",
          "data": {
            "text/plain": [
              "0.3451979134703897"
            ]
          },
          "metadata": {},
          "execution_count": 157
        }
      ]
    },
    {
      "cell_type": "markdown",
      "source": [
        "## **2. Análisis de resultados**\n",
        "---"
      ],
      "metadata": {
        "id": "sqrVNmnKjfSy"
      }
    },
    {
      "cell_type": "markdown",
      "source": [
        "Finalmente se encontró que los datos utilizados se encuentran muy dispersos sobre las distintas categorías objetivo, resultando en un modelo entrenado que no logró obtener **`rendimientos`** de validación y prueba satisfactorios.\n",
        "\n",
        "El conjunto de datos no tuvo características lo suficientemente **`importantes`** como para aportar de forma significativa al desempeño de los **`árboles de decisión`** utilizados."
      ],
      "metadata": {
        "id": "NP8CqYNctRxp"
      }
    },
    {
      "cell_type": "markdown",
      "source": [
        "# **Referencias**\n",
        "---\n",
        "* [Kaggle - Video Game Sales](https://www.kaggle.com/datasets/gregorut/videogamesales)"
      ],
      "metadata": {
        "id": "RUqpqdx3vIlc"
      }
    },
    {
      "cell_type": "markdown",
      "source": [
        "# **Créditos**\n",
        "---\n",
        "* Samuel David Moreno Vahos"
      ],
      "metadata": {
        "id": "0nxfhassvOJ8"
      }
    }
  ]
}
